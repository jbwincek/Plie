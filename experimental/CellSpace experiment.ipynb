{
 "cells": [
  {
   "cell_type": "code",
   "execution_count": 61,
   "metadata": {
    "collapsed": true
   },
   "outputs": [],
   "source": [
    "from collections import UserDict\n",
    "from numbers import Integral"
   ]
  },
  {
   "cell_type": "code",
   "execution_count": 62,
   "metadata": {
    "collapsed": false
   },
   "outputs": [
    {
     "data": {
      "text/plain": [
       "[(0, 1), (1, 2), (0, 0), (2, 0), (1, 0), (2, 2), (0, 2), (2, 1), (1, 1)]"
      ]
     },
     "execution_count": 62,
     "metadata": {},
     "output_type": "execute_result"
    }
   ],
   "source": [
    "test_cells = {\n",
    "        (0, 0): ' ',\n",
    "        (0, 1): ' ',\n",
    "        (0, 2): ' ',\n",
    "        (1, 0): ' ',\n",
    "        (1, 1): 'a',\n",
    "        (1, 2): ' ',\n",
    "        (2, 0): ' ',\n",
    "        (2, 1): ' ',\n",
    "        (2, 2): ' ',\n",
    "    }\n",
    "list(test_cells.keys())\n"
   ]
  },
  {
   "cell_type": "code",
   "execution_count": 94,
   "metadata": {
    "collapsed": false
   },
   "outputs": [],
   "source": [
    "class CellSpace(UserDict):\n",
    "    \n",
    "    @property\n",
    "    def width(self):\n",
    "        return max(list(self.data.keys()), key=lambda t: t[0])[0]\n",
    "    \n",
    "    @property\n",
    "    def height(self):\n",
    "        return max(list(self.data.keys()), key=lambda t: t[1])[1]\n",
    "    \n",
    "    def __getitem__(self, index):\n",
    "        cls = type(self)\n",
    "        new_cells = cls()\n",
    "        width = self.width\n",
    "        height = self.height\n",
    "        if isinstance(index, tuple) and isinstance(index[0], slice) and isinstance(index[1], slice):\n",
    "            # handle the case where both items are slices aka box case\n",
    "            x_s = index[0].indices(width)\n",
    "            y_s = index[1].indices(height)\n",
    "            for y_index, y in enumerate(range(*y_s)):\n",
    "                for x_index, x in enumerate(range(*x_s)):\n",
    "                    new_cells[(x_index, y_index)] = self.data[(x, y)]\n",
    "            return new_cells\n",
    "        \n",
    "        elif isinstance(index, tuple) and isinstance(index[0], slice) and isinstance(index[1], Integral):\n",
    "            # handle the case where x is a slice, but y is an integer [int:int, int] aka row case\n",
    "            x_s = index[0].indices(width)\n",
    "            for x_index, x in enumerate(range(*x_s)):\n",
    "                new_cells[(x_index, 0)] = self.data[(x, index[1])]\n",
    "            return new_cells\n",
    "        \n",
    "        elif isinstance(index, tuple) and isinstance(index[0], Integral) and isinstance(index[1], slice):\n",
    "            # handle the case where x is an integer, but y is a slice [int, int:int] aka column case\n",
    "            y_s = index[1].indices(height)\n",
    "            for y_index, y in enumerate(range(*y_s)):\n",
    "                new_cells[(0, y_index)] = self.data[(index[0], y)]\n",
    "            return new_cells\n",
    "        \n",
    "        elif isinstance(index, tuple) and isinstance(index[0], Integral) and isinstance(index[1], Integral):\n",
    "            # handle the case where both items are integers [int,int] aka cell case\n",
    "            return self.data[(index[0], index[1])]\n",
    "        \n",
    "        else:\n",
    "            msg = '{cls.__name__} indices must be integers'\n",
    "            raise TypeError(msg.format(cls=cls))"
   ]
  },
  {
   "cell_type": "code",
   "execution_count": 95,
   "metadata": {
    "collapsed": true
   },
   "outputs": [],
   "source": [
    "c = CellSpace()\n",
    "for x,y in [(x,y) for y in range(10) for x in range(10)]:\n",
    "    c[(x,y)] = x+y"
   ]
  },
  {
   "cell_type": "code",
   "execution_count": 97,
   "metadata": {
    "collapsed": false
   },
   "outputs": [
    {
     "name": "stdout",
     "output_type": "stream",
     "text": [
      "{(0, 0): 6}\n",
      "6\n",
      "{(0, 1): 3, (0, 6): 8, (0, 0): 2, (0, 5): 7, (0, 4): 6, (0, 3): 5, (0, 8): 10, (0, 2): 4, (0, 7): 9}\n",
      "<class '__main__.CellSpace'>\n",
      "width = 9, height = 9\n"
     ]
    }
   ],
   "source": [
    "print(c[3:4,3:4])\n",
    "print(c[(3,3)])\n",
    "print(c[2,:])\n",
    "print(type(c[:,:]))\n",
    "print('width = {}, height = {}'.format(c.width, c.height))"
   ]
  },
  {
   "cell_type": "code",
   "execution_count": null,
   "metadata": {
    "collapsed": false
   },
   "outputs": [],
   "source": []
  },
  {
   "cell_type": "code",
   "execution_count": null,
   "metadata": {
    "collapsed": true
   },
   "outputs": [],
   "source": []
  }
 ],
 "metadata": {
  "kernelspec": {
   "display_name": "Python 3",
   "language": "python",
   "name": "python3"
  },
  "language_info": {
   "codemirror_mode": {
    "name": "ipython",
    "version": 3
   },
   "file_extension": ".py",
   "mimetype": "text/x-python",
   "name": "python",
   "nbconvert_exporter": "python",
   "pygments_lexer": "ipython3",
   "version": "3.5.1"
  }
 },
 "nbformat": 4,
 "nbformat_minor": 0
}
